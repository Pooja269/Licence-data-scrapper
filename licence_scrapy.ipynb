{
 "cells": [
  {
   "cell_type": "code",
   "execution_count": 28,
   "metadata": {},
   "outputs": [],
   "source": [
    "from selenium import webdriver\n",
    "from selenium.webdriver.support.ui import Select\n",
    "from selenium.webdriver.support.ui import WebDriverWait\n",
    "from selenium.webdriver.support import expected_conditions as EC\n",
    "from selenium.webdriver.common.by import By\n",
    "import json\n",
    "path = r'C:\\\\Users\\\\pooja\\\\AnacondaProjects\\\\Chromedriver'\n",
    "driver = webdriver.Chrome(executable_path = path)\n",
    "driver.get('https://parivahan.gov.in/rcdlstatus/?pur_cd=101')\n"
   ]
  },
  {
   "cell_type": "code",
   "execution_count": 29,
   "metadata": {},
   "outputs": [
    {
     "name": "stdout",
     "output_type": "stream",
     "text": [
      "Enter your Driving licence number:Dl-0420110149646\n",
      "Enter your DOB(in dd-mm-yyyy format):09-02-1976\n",
      "Enter your Captcha:xef7r\n",
      ]
    }
   ],
   "source": [
    "dlno=input(\"Enter your Driving licence number:\")\n",
    "text_dl = driver.find_element_by_id('form_rcdl:tf_dlNO')\n",
    "text_dl.send_keys(dlno)\n",
    "dob=input(\"Enter your DOB(in dd-mm-yyyy format):\")\n",
    "text_dob = driver.find_element_by_id('form_rcdl:tf_dob_input')\n",
    "text_dob.send_keys(dob)\n",
    "text_dob.click()\n",
    "captcha=input(\"Enter your Captcha:\")\n",
    "text_captcha=driver.find_element_by_id('form_rcdl:j_idt34:CaptchaID')\n",
    "text_captcha.send_keys(captcha)\n",
    "search_button = driver.find_element_by_id(\"form_rcdl:j_idt46\")\n",
    "search_button.click()\n",
    "WebDriverWait(driver,10).until(EC.presence_of_element_located((By.ID, \"form_rcdl:j_idt118\")))\n",
    "txt=driver.find_elements_by_tag_name(\"td\")\n",
    "data=driver.find_elements_by_class_name(\"ui-column-title\")\n",
    "\n",
    "raw_data1=[]\n",
    "raw_data2=[]\n",
    "content=[]\n",
    "for i in range(0,len(txt),1):\n",
    "    if(txt[i].text!=\"\"):\n",
    "        raw_data1.append(txt[i].text)\n",
    "for i in range(0,len(raw_data1)-3,1):\n",
    "    content.append(raw_data1[i])\n",
    "for i in data:\n",
    "    content.append(i.text)\n",
    "j=len(raw_data1)-3\n",
    "for i in range(j,len(raw_data1),1):\n",
    "    content.append(raw_data1[i])\n",
    "dict={}\n",
    "for i in range(0,len(content),2):\n",
    "    content[i]=content[i].replace(\":\",\"\")\n",
    "    dict[content[i]]=content[i+1]\n",
    "json=json.dumps(dict)\n",
    "print(\"JSON object: \",json)"
   ]
  },
  {
   "cell_type": "code",
   "execution_count": null,
   "metadata": {},
   "outputs": [],
   "source": []
  },
  {
   "cell_type": "code",
   "execution_count": null,
   "metadata": {},
   "outputs": [],
   "source": []
  },
  {
   "cell_type": "code",
   "execution_count": null,
   "metadata": {},
   "outputs": [],
   "source": []
  },
  {
   "cell_type": "code",
   "execution_count": null,
   "metadata": {},
   "outputs": [],
   "source": []
  }
 ],
 "metadata": {
  "kernelspec": {
   "display_name": "Python 3",
   "language": "python",
   "name": "python3"
  },
  "language_info": {
   "codemirror_mode": {
    "name": "ipython",
    "version": 3
   },
   "file_extension": ".py",
   "mimetype": "text/x-python",
   "name": "python",
   "nbconvert_exporter": "python",
   "pygments_lexer": "ipython3",
   "version": "3.6.4"
  }
 },
 "nbformat": 4,
 "nbformat_minor": 2
}
