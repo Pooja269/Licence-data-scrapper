{
 "cells": [
  {
   "cell_type": "code",
   "execution_count": 1,
   "metadata": {},
   "outputs": [
    {
     "name": "stdout",
     "output_type": "stream",
     "text": [
      "https://parivahan.gov.in/rcdlstatus/DispplayCaptcha;jsessionid=B2C9C74CE7F2666B83E9D3E5547B6376?txtp_cd=1&bkgp_cd=2&noise_cd=2&gimp_cd=3&txtp_length=5&pfdrid_c=true?1147909485&pfdrid_c=true\n",
      "\n"
     ]
    }
   ],
   "source": [
    "import csv\n",
    "import urllib\n",
    "from urllib.request import urlretrieve\n",
    "from bs4 import BeautifulSoup\n",
    "from PIL import Image\n",
    "from PIL import ImageOps\n",
    "import pytesseract\n",
    "import subprocess\n",
    "\n",
    "def cleanimage(path):\n",
    "    img=Image.open(path)\n",
    "    gray = img.convert('L')\n",
    "    gray.save(path)\n",
    "    bw=gray.point(lambda x: 0 if x<1 else 255,'1')\n",
    "    #borderimg=ImageOps.expand(img,border=20)\n",
    "    #borderimg.save(path)\n",
    "    bw.save(path)\n",
    "    pytesseract.pytesseract.tesseract_cmd = r'C:\\Users\\pooja\\AppData\\Local\\tesseract-ocr\\tesseract'\n",
    "    return pytesseract.image_to_string(bw)\n",
    "url='https://parivahan.gov.in/rcdlstatus/?pur_cd=101'\n",
    "data=urllib.request.urlopen(url)\n",
    "reader=data.read()\n",
    "reader\n",
    "soup = BeautifulSoup(reader,'html.parser')\n",
    "img=soup.find('img',attrs={'id':'form_rcdl:j_idt34:j_idt41'})[\"src\"]\n",
    "captchaurl=\"https://parivahan.gov.in\"+img\n",
    "print(captchaurl)\n",
    "urlretrieve(captchaurl,\"captcha.jpg\")\n",
    "print(cleanimage(\"captcha.jpg\"))"
   ]
  }
 ],
 "metadata": {
  "kernelspec": {
   "display_name": "Python 3",
   "language": "python",
   "name": "python3"
  },
  "language_info": {
   "codemirror_mode": {
    "name": "ipython",
    "version": 3
   },
   "file_extension": ".py",
   "mimetype": "text/x-python",
   "name": "python",
   "nbconvert_exporter": "python",
   "pygments_lexer": "ipython3",
   "version": "3.6.4"
  }
 },
 "nbformat": 4,
 "nbformat_minor": 2
}
